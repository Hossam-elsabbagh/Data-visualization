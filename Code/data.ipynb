{
 "cells": [
  {
   "cell_type": "code",
   "execution_count": 1,
   "metadata": {},
   "outputs": [],
   "source": [
    "import pandas as pd"
   ]
  },
  {
   "cell_type": "code",
   "execution_count": 2,
   "metadata": {},
   "outputs": [
    {
     "data": {
      "text/html": [
       "<div>\n",
       "<style scoped>\n",
       "    .dataframe tbody tr th:only-of-type {\n",
       "        vertical-align: middle;\n",
       "    }\n",
       "\n",
       "    .dataframe tbody tr th {\n",
       "        vertical-align: top;\n",
       "    }\n",
       "\n",
       "    .dataframe thead th {\n",
       "        text-align: right;\n",
       "    }\n",
       "</style>\n",
       "<table border=\"1\" class=\"dataframe\">\n",
       "  <thead>\n",
       "    <tr style=\"text-align: right;\">\n",
       "      <th></th>\n",
       "      <th>Name</th>\n",
       "      <th>ID</th>\n",
       "      <th>School</th>\n",
       "      <th>Major</th>\n",
       "      <th>GPA</th>\n",
       "      <th>Gender</th>\n",
       "      <th>Student_status</th>\n",
       "    </tr>\n",
       "  </thead>\n",
       "  <tbody>\n",
       "    <tr>\n",
       "      <th>0</th>\n",
       "      <td>AhmedAli</td>\n",
       "      <td>20220506</td>\n",
       "      <td>Engineering</td>\n",
       "      <td>CS</td>\n",
       "      <td>2.10532</td>\n",
       "      <td>Female</td>\n",
       "      <td>Sophomore</td>\n",
       "    </tr>\n",
       "    <tr>\n",
       "      <th>1</th>\n",
       "      <td>MohammedSalem</td>\n",
       "      <td>20220822</td>\n",
       "      <td>Business</td>\n",
       "      <td>Business</td>\n",
       "      <td>2.67496</td>\n",
       "      <td>Male</td>\n",
       "      <td>Junior</td>\n",
       "    </tr>\n",
       "    <tr>\n",
       "      <th>2</th>\n",
       "      <td>YasserKhaled</td>\n",
       "      <td>20220729</td>\n",
       "      <td>Business</td>\n",
       "      <td>Business</td>\n",
       "      <td>2.22819</td>\n",
       "      <td>Male</td>\n",
       "      <td>Junior</td>\n",
       "    </tr>\n",
       "    <tr>\n",
       "      <th>3</th>\n",
       "      <td>FatimaOmar</td>\n",
       "      <td>20220764</td>\n",
       "      <td>Science</td>\n",
       "      <td>Biomedical</td>\n",
       "      <td>3.77249</td>\n",
       "      <td>Female</td>\n",
       "      <td>Freshman</td>\n",
       "    </tr>\n",
       "    <tr>\n",
       "      <th>4</th>\n",
       "      <td>MaryamMohamed</td>\n",
       "      <td>20220979</td>\n",
       "      <td>Science</td>\n",
       "      <td>Nano</td>\n",
       "      <td>3.18237</td>\n",
       "      <td>Female</td>\n",
       "      <td>Senior</td>\n",
       "    </tr>\n",
       "    <tr>\n",
       "      <th>...</th>\n",
       "      <td>...</td>\n",
       "      <td>...</td>\n",
       "      <td>...</td>\n",
       "      <td>...</td>\n",
       "      <td>...</td>\n",
       "      <td>...</td>\n",
       "      <td>...</td>\n",
       "    </tr>\n",
       "    <tr>\n",
       "      <th>986</th>\n",
       "      <td>Yasser Khaled</td>\n",
       "      <td>20220729</td>\n",
       "      <td>Business</td>\n",
       "      <td>Business</td>\n",
       "      <td>2.22819</td>\n",
       "      <td>Male</td>\n",
       "      <td>Junior</td>\n",
       "    </tr>\n",
       "    <tr>\n",
       "      <th>987</th>\n",
       "      <td>Yasser Khaled</td>\n",
       "      <td>20220703</td>\n",
       "      <td>Engineering</td>\n",
       "      <td>CIE</td>\n",
       "      <td>2.81412</td>\n",
       "      <td>Male</td>\n",
       "      <td>Senior</td>\n",
       "    </tr>\n",
       "    <tr>\n",
       "      <th>988</th>\n",
       "      <td>Ali Ahmed</td>\n",
       "      <td>20220506</td>\n",
       "      <td>Engineering</td>\n",
       "      <td>CS</td>\n",
       "      <td>2.10532</td>\n",
       "      <td>Male</td>\n",
       "      <td>Sophomore</td>\n",
       "    </tr>\n",
       "    <tr>\n",
       "      <th>989</th>\n",
       "      <td>Salem Mohammed</td>\n",
       "      <td>20220822</td>\n",
       "      <td>Business</td>\n",
       "      <td>Business</td>\n",
       "      <td>2.67496</td>\n",
       "      <td>Male</td>\n",
       "      <td>Junior</td>\n",
       "    </tr>\n",
       "    <tr>\n",
       "      <th>990</th>\n",
       "      <td>Yasser Khaled</td>\n",
       "      <td>20220729</td>\n",
       "      <td>Business</td>\n",
       "      <td>Business</td>\n",
       "      <td>2.22819</td>\n",
       "      <td>Male</td>\n",
       "      <td>Junior</td>\n",
       "    </tr>\n",
       "  </tbody>\n",
       "</table>\n",
       "<p>991 rows × 7 columns</p>\n",
       "</div>"
      ],
      "text/plain": [
       "               Name        ID       School       Major      GPA  Gender  \\\n",
       "0          AhmedAli  20220506  Engineering          CS  2.10532  Female   \n",
       "1     MohammedSalem  20220822     Business    Business  2.67496    Male   \n",
       "2      YasserKhaled  20220729     Business    Business  2.22819    Male   \n",
       "3        FatimaOmar  20220764      Science  Biomedical  3.77249  Female   \n",
       "4     MaryamMohamed  20220979      Science        Nano  3.18237  Female   \n",
       "..              ...       ...          ...         ...      ...     ...   \n",
       "986   Yasser Khaled  20220729     Business    Business  2.22819    Male   \n",
       "987   Yasser Khaled  20220703  Engineering         CIE  2.81412    Male   \n",
       "988       Ali Ahmed  20220506  Engineering          CS  2.10532    Male   \n",
       "989  Salem Mohammed  20220822     Business    Business  2.67496    Male   \n",
       "990   Yasser Khaled  20220729     Business    Business  2.22819    Male   \n",
       "\n",
       "    Student_status  \n",
       "0        Sophomore  \n",
       "1           Junior  \n",
       "2           Junior  \n",
       "3         Freshman  \n",
       "4           Senior  \n",
       "..             ...  \n",
       "986         Junior  \n",
       "987         Senior  \n",
       "988      Sophomore  \n",
       "989         Junior  \n",
       "990         Junior  \n",
       "\n",
       "[991 rows x 7 columns]"
      ]
     },
     "execution_count": 2,
     "metadata": {},
     "output_type": "execute_result"
    }
   ],
   "source": [
    "df = pd.read_csv('dataset.csv')\n",
    "df"
   ]
  },
  {
   "cell_type": "code",
   "execution_count": 3,
   "metadata": {},
   "outputs": [
    {
     "data": {
      "text/plain": [
       "991"
      ]
     },
     "execution_count": 3,
     "metadata": {},
     "output_type": "execute_result"
    }
   ],
   "source": [
    "num_of_stuents = len(df['ID'])\n",
    "num_of_stuents"
   ]
  },
  {
   "cell_type": "code",
   "execution_count": 4,
   "metadata": {},
   "outputs": [
    {
     "data": {
      "text/plain": [
       "0            AhmedAli\n",
       "1       MohammedSalem\n",
       "2        YasserKhaled\n",
       "3          FatimaOmar\n",
       "4       MaryamMohamed\n",
       "            ...      \n",
       "986     Yasser Khaled\n",
       "987     Yasser Khaled\n",
       "988         Ali Ahmed\n",
       "989    Salem Mohammed\n",
       "990     Yasser Khaled\n",
       "Name: Name, Length: 991, dtype: object"
      ]
     },
     "execution_count": 4,
     "metadata": {},
     "output_type": "execute_result"
    }
   ],
   "source": [
    "stuents = (df['Name'])\n",
    "stuents"
   ]
  },
  {
   "cell_type": "code",
   "execution_count": 5,
   "metadata": {},
   "outputs": [
    {
     "data": {
      "text/plain": [
       "0              CS\n",
       "1        Business\n",
       "2        Business\n",
       "3      Biomedical\n",
       "4            Nano\n",
       "          ...    \n",
       "986      Business\n",
       "987           CIE\n",
       "988            CS\n",
       "989      Business\n",
       "990      Business\n",
       "Name: Major, Length: 991, dtype: object"
      ]
     },
     "execution_count": 5,
     "metadata": {},
     "output_type": "execute_result"
    }
   ],
   "source": [
    "Majors = df['Major']\n",
    "Majors"
   ]
  },
  {
   "cell_type": "code",
   "execution_count": 6,
   "metadata": {},
   "outputs": [
    {
     "data": {
      "text/plain": [
       "np.int64(991)"
      ]
     },
     "execution_count": 6,
     "metadata": {},
     "output_type": "execute_result"
    }
   ],
   "source": [
    "gender_count = df[\"Gender\"].value_counts()\n",
    "total_count = gender_count.Male + gender_count.Female\n",
    "total_count\n"
   ]
  },
  {
   "cell_type": "code",
   "execution_count": 7,
   "metadata": {},
   "outputs": [
    {
     "name": "stdout",
     "output_type": "stream",
     "text": [
      "Percentage of males 48.839556004036325%\n",
      "Percentage of females 51.160443995963675%\n"
     ]
    }
   ],
   "source": [
    "print(f\"Percentage of males {gender_count.Male/total_count*100}%\")\n",
    "print(f\"Percentage of females {gender_count.Female/total_count*100}%\")"
   ]
  },
  {
   "cell_type": "code",
   "execution_count": 8,
   "metadata": {},
   "outputs": [
    {
     "data": {
      "text/plain": [
       "np.int64(991)"
      ]
     },
     "execution_count": 8,
     "metadata": {},
     "output_type": "execute_result"
    }
   ],
   "source": [
    "School_count = df[\"School\"].value_counts()\n",
    "total_count = School_count.Engineering + School_count.Business + School_count.Science\n",
    "total_count"
   ]
  },
  {
   "cell_type": "code",
   "execution_count": 9,
   "metadata": {},
   "outputs": [
    {
     "name": "stdout",
     "output_type": "stream",
     "text": [
      "Percentage of Engineering 29.56609485368315%\n",
      "Percentage of Business 37.638748738647834%\n",
      "Percentage of Science 32.795156407669026%\n"
     ]
    }
   ],
   "source": [
    "print(f\"Percentage of Engineering {School_count.Engineering/total_count*100}%\")\n",
    "print(f\"Percentage of Business {School_count.Business/total_count*100}%\")\n",
    "print(f\"Percentage of Science {School_count.Science/total_count*100}%\")"
   ]
  },
  {
   "cell_type": "code",
   "execution_count": 10,
   "metadata": {},
   "outputs": [
    {
     "data": {
      "text/plain": [
       "Student_status\n",
       "Junior       374\n",
       "Senior       266\n",
       "Sophomore    177\n",
       "Freshman     174\n",
       "Name: count, dtype: int64"
      ]
     },
     "execution_count": 10,
     "metadata": {},
     "output_type": "execute_result"
    }
   ],
   "source": [
    "Student_status_count = df[\"Student_status\"].value_counts()\n",
    "Student_status_count"
   ]
  },
  {
   "cell_type": "code",
   "execution_count": 11,
   "metadata": {},
   "outputs": [
    {
     "data": {
      "text/plain": [
       "np.int64(991)"
      ]
     },
     "execution_count": 11,
     "metadata": {},
     "output_type": "execute_result"
    }
   ],
   "source": [
    "Student_status_count = df[\"Student_status\"].value_counts()\n",
    "total_count = Student_status_count.Junior + Student_status_count.Senior + Student_status_count.Sophomore + Student_status_count.Freshman\n",
    "total_count"
   ]
  },
  {
   "cell_type": "code",
   "execution_count": 12,
   "metadata": {},
   "outputs": [
    {
     "name": "stdout",
     "output_type": "stream",
     "text": [
      "Percentage of Junior 37.73965691220989%\n",
      "Percentage of Senior 26.84157416750757%\n",
      "Percentage of Sophomore 17.860746720484357%\n",
      "Percentage of Freshman 17.558022199798184%\n"
     ]
    }
   ],
   "source": [
    "print(f\"Percentage of Junior {Student_status_count.Junior/total_count*100}%\")\n",
    "print(f\"Percentage of Senior {Student_status_count.Senior/total_count*100}%\")\n",
    "print(f\"Percentage of Sophomore {Student_status_count.Sophomore/total_count*100}%\")\n",
    "print(f\"Percentage of Freshman {Student_status_count.Freshman/total_count*100}%\")"
   ]
  },
  {
   "cell_type": "code",
   "execution_count": 13,
   "metadata": {},
   "outputs": [
    {
     "data": {
      "text/plain": [
       "GPA\n",
       "2.22819    167\n",
       "3.18237    131\n",
       "2.67496    127\n",
       "2.10532    117\n",
       "3.77249    114\n",
       "2.81412     77\n",
       "3.95000     20\n",
       "2.87000     20\n",
       "3.62000     20\n",
       "3.15000     20\n",
       "3.55511     20\n",
       "3.22222     20\n",
       "2.99933     20\n",
       "3.77755     20\n",
       "3.66666     20\n",
       "3.33399     20\n",
       "3.55577     20\n",
       "2.88844     19\n",
       "3.44488     19\n",
       "Name: count, dtype: int64"
      ]
     },
     "execution_count": 13,
     "metadata": {},
     "output_type": "execute_result"
    }
   ],
   "source": [
    "GPA_count = df[\"GPA\"].value_counts()\n",
    "GPA_count"
   ]
  },
  {
   "cell_type": "code",
   "execution_count": 14,
   "metadata": {},
   "outputs": [
    {
     "data": {
      "text/plain": [
       "array([2.10532, 2.67496, 2.22819, 3.77249, 3.18237, 3.95   , 2.87   ,\n",
       "       3.62   , 3.15   , 2.81412, 3.55511, 3.22222, 2.99933, 2.88844,\n",
       "       3.77755, 3.66666, 3.55577, 3.44488, 3.33399])"
      ]
     },
     "execution_count": 14,
     "metadata": {},
     "output_type": "execute_result"
    }
   ],
   "source": [
    "unique_GPA = df[\"GPA\"].unique()\n",
    "unique_GPA"
   ]
  }
 ],
 "metadata": {
  "kernelspec": {
   "display_name": "Python 3",
   "language": "python",
   "name": "python3"
  },
  "language_info": {
   "codemirror_mode": {
    "name": "ipython",
    "version": 3
   },
   "file_extension": ".py",
   "mimetype": "text/x-python",
   "name": "python",
   "nbconvert_exporter": "python",
   "pygments_lexer": "ipython3",
   "version": "3.10.8"
  }
 },
 "nbformat": 4,
 "nbformat_minor": 2
}
